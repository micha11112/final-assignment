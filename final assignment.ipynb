{
 "cells": [
  {
   "cell_type": "markdown",
   "id": "1765820f-02c8-4df5-b73a-72c6dd101ba3",
   "metadata": {},
   "source": [
    "<h1>My Jupyter Notebook on IBM Watson Studio</h1>"
   ]
  },
  {
   "cell_type": "markdown",
   "id": "ca74cb23-b072-4fd3-b152-45241b822503",
   "metadata": {},
   "source": [
    "<html><b>Michael Hahn</b><br>\n",
    "Occuption: Real Estate</html>"
   ]
  },
  {
   "cell_type": "markdown",
   "id": "9d32f990-c5fd-456f-a439-94f99bb9bb50",
   "metadata": {},
   "source": [
    "<i>I am interested in data science because of I want to gain insights from data.</i>"
   ]
  },
  {
   "cell_type": "markdown",
   "id": "8dd26f7c-802c-4f36-a4fd-0176560ebc26",
   "metadata": {},
   "source": [
    "<h3>The following code calulcates the sum of numbers 1 and 2.</h3>"
   ]
  },
  {
   "cell_type": "code",
   "execution_count": 1,
   "id": "cb7d5fd2-e428-4b31-b791-e73bfa03f3c2",
   "metadata": {},
   "outputs": [
    {
     "name": "stdout",
     "output_type": "stream",
     "text": [
      "3\n"
     ]
    }
   ],
   "source": [
    "print(1+2)"
   ]
  },
  {
   "cell_type": "markdown",
   "id": "9b726b42-f125-4b40-94a9-97b95d2ead11",
   "metadata": {},
   "source": [
    "<hr>\n",
    "<ul><li>Point 1</li><li>Point 2</li><li>Point 3</li></ul>\n",
    "<br>\n",
    "<ol type=\"1\"><li>One</li><li>Two</li><li>Three</li></ol>\n",
    "<br>\n",
    "<table>\n",
    "    <tr>\n",
    "        <td>Column 1</td>\n",
    "        <td>Column 2</td>\n",
    "        <td>Column 3</td>\n",
    "    </tr>\n",
    "    <tr>\n",
    "        <td>Value 1</td>\n",
    "        <td>Value 2</td>\n",
    "        <td>Value 3</td>\n",
    "    </tr>\n",
    "    </table>\n",
    "    "
   ]
  },
  {
   "cell_type": "code",
   "execution_count": null,
   "id": "9cb0a65b-f647-44ef-b5b8-b5a33208b6f4",
   "metadata": {},
   "outputs": [],
   "source": []
  }
 ],
 "metadata": {
  "kernelspec": {
   "display_name": "Python",
   "language": "python",
   "name": "conda-env-python-py"
  },
  "language_info": {
   "codemirror_mode": {
    "name": "ipython",
    "version": 3
   },
   "file_extension": ".py",
   "mimetype": "text/x-python",
   "name": "python",
   "nbconvert_exporter": "python",
   "pygments_lexer": "ipython3",
   "version": "3.7.12"
  }
 },
 "nbformat": 4,
 "nbformat_minor": 5
}
